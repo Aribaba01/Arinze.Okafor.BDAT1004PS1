{
 "cells": [
  {
   "cell_type": "code",
   "execution_count": null,
   "id": "c9d6a1e8",
   "metadata": {},
   "outputs": [],
   "source": [
    "#1\n",
    "static void Level()\n",
    "    {\n",
    "        int a = 5;\n",
    "        Type typeA = a.GetType();\n",
    "\n",
    "        double b = 5.0;\n",
    "        Type typeB = b.GetType();\n",
    "\n",
    "        bool c = 5 > 1;\n",
    "        Type typeC = c.GetType();\n",
    "\n",
    "        char d = '5';\n",
    "        Type typeD = d.GetType();\n",
    "\n",
    "        int e = 5 * 2;\n",
    "        Type typeE = e.GetType();\n",
    "\n",
    "        Console.WriteLine(('5' * 2).GetType());\n",
    "\n",
    "        int g = '5' + '2';\n",
    "        Type typeG = g.GetType();\n",
    "\n",
    "        int h = 5 / 2;\n",
    "        Type typeH = h.GetType();\n",
    "\n",
    "        int i = 5 % 2;\n",
    "        Type typeI = i.GetType();\n",
    "\n",
    "        int [] j ={ 5, 2, 1};\n",
    "        Type typeJ = j.GetType();\n",
    "\n",
    "        bool k = 5 == 3;\n",
    "        Type typeK = k.GetType();\n",
    "\n",
    "        double pi = 3.14;\n",
    "        Type typeP = pi.GetType();\n",
    "\n",
    "        Console.WriteLine(\"The datatype of 5 is: \" + typeA);\n",
    "        Console.WriteLine(\"The datatype of 5.0 is: \" + typeB);\n",
    "        Console.WriteLine(\"The datatype of 5 > 1 is: \" + typeC);\n",
    "        Console.WriteLine(\"The datatype of '5' is: \" + typeD);\n",
    "        Console.WriteLine(\"The datatype of 5 * 2 is: \" + typeE);\n",
    "        \n",
    "        Console.WriteLine(\"The datatype of '5' + '2' is: \" + typeG);\n",
    "        Console.WriteLine(\"The datatype of 5 / 2 is: \" + typeH);\n",
    "        Console.WriteLine(\"The datatype of 5 % 2 is: \" + typeI);\n",
    "        Console.WriteLine(\"The datatype of { 5, 2, 1} is: \" + typeJ);\n",
    "        Console.WriteLine(\"The datatype of 5 == 3 is: \" + typeK);\n",
    "        Console.WriteLine(\"The datatype of pi is: \" + typeP);\n",
    "    }\n",
    "}"
   ]
  },
  {
   "cell_type": "code",
   "execution_count": null,
   "id": "7ebe7210",
   "metadata": {},
   "outputs": [],
   "source": [
    "#2\n",
    "using System;\n",
    "using System.ComponentModel.Design;\n",
    "using System.ComponentModel.Design.Serialization;\n",
    "using System.Security.Cryptography.X509Certificates;\n",
    "\n",
    "class Program\n",
    "{\n",
    "    public static void Main()\n",
    "    {\n",
    "        Console.WriteLine(\"\\n\\n\\n ================================Question A=======================================================\");\n",
    "        string letter1 = \"Supercalifragilisticexpialidocious\";\n",
    "        int letter1Count = letter1.Length;\n",
    "        Console.WriteLine(\"Supercalifragilisticexpialidocious has \" + letter1Count + \" letters\");\n",
    "\n",
    "\n",
    "        Console.WriteLine(\"\\n\\n\\n ================================Question B=======================================================\");\n",
    "        Console.WriteLine(letter1);\n",
    "        bool substringIce = letter1.Contains(\"ice\");\n",
    "        if (substringIce)\n",
    "        {\n",
    "            Console.WriteLine(\"Supercalifragilisticexpialidocious contains ice.\");\n",
    "        }\n",
    "        else\n",
    "        {\n",
    "            Console.WriteLine(\"Supercalifragilisticexpialidocious does not contain ice.\");\n",
    "        }\n",
    "\n",
    "\n",
    "        Console.WriteLine(\"\\n\\n\\n ================================Question C=======================================================\");\n",
    "        {\n",
    "\n",
    "        }\n",
    "        Console.WriteLine(\"Supercalifragilisticexpialidocious has \" + letter1Count + \" letters\");\n",
    "        string letter2 = \"Honorificabilitudinitatibus\";\n",
    "        string letter3 = \"Bababadalgharaghtakamminarronnkonn\";\n",
    "\n",
    "        int letter2Count = letter2.Length;\n",
    "        int letter3Count = letter3.Length;\n",
    "\n",
    "\n",
    "        Console.WriteLine(\"Honorificabilitudinitatibus has \" + letter2Count + \" letters\");\n",
    "        Console.WriteLine(\"Bababadalgharaghtakamminarronnkonn has \" + letter3Count + \" letters\");\n",
    "\n",
    "        if (letter1Count > letter2Count && letter1Count > letter3Count)\n",
    "        {\n",
    "            Console.Write(letter1 + \"is the longest\");\n",
    "        }\n",
    "        else if (letter2Count > letter1Count && letter2Count > letter3Count)\n",
    "        {\n",
    "            Console.Write(letter2 + \"is the longest\");\n",
    "        }\n",
    "        else if (letter3Count > letter1Count && letter3Count > letter2Count)\n",
    "        {\n",
    "            Console.Write(letter3 + \"is the longest\");\n",
    "\n",
    "        }\n",
    "        Console.WriteLine(\"The length of both Supercalifragilisticexpialidocious and Bababadalgharaghtakamminarronnkonn are equal\");\n",
    "\n",
    "        Console.WriteLine(\"\\n\\n\\n ================================Question D=======================================================\");\n",
    "\n",
    "        List<string> composers = new List<string>\n",
    "        {\n",
    "            \"Berlioz\",\n",
    "            \"Borodin\",\n",
    "            \"Brian\",\n",
    "            \"Bartok\",\n",
    "            \"Bellini\",\n",
    "            \"Buxtehude\",\n",
    "            \"Bernstein\"\n",
    "        };\n",
    "\n",
    "        composers.Sort(); \n",
    "        string firstComposer = composers[0];\n",
    "        string lastComposer = composers[composers.Count - 1];\n",
    "\n",
    "        Console.WriteLine(\"First composer: \" + firstComposer);\n",
    "        Console.WriteLine(\"Last composer: \" + lastComposer);\n",
    "    }\n",
    "}"
   ]
  },
  {
   "cell_type": "code",
   "execution_count": null,
   "id": "c28ef32c",
   "metadata": {},
   "outputs": [],
   "source": [
    "#3\n",
    "public class Triangle\n",
    "{\n",
    "\n",
    "    public static double Area(int a, int b, int c)\n",
    "    {\n",
    "        double s = (a + b + c) / 2;\n",
    "        return Math.Sqrt(s * (s - a) * (s - b) * (s - c));\n",
    "    }\n",
    "    public static void Main()\n",
    "    {\n",
    "        Console.WriteLine(\"Enter the three values of each side of triangle.\");\n",
    "        Console.Write(\"a = \");\n",
    "        int a = int.Parse(Console.ReadLine());\n",
    "        Console.Write(\"b = \");\n",
    "        int b = int.Parse(Console.ReadLine());\n",
    "        Console.Write(\"c = \");\n",
    "        int c = int.Parse(Console.ReadLine());\n",
    "\n",
    "        double solution = Area(a, b, c);\n",
    "        Console.WriteLine(\"The area of the triangle is : \" + solution);\n",
    "    }\n",
    "\n",
    "\n",
    "}"
   ]
  },
  {
   "cell_type": "code",
   "execution_count": null,
   "id": "8782b7ae",
   "metadata": {},
   "outputs": [],
   "source": [
    "#4\n",
    "public class EvenOdd\n",
    "{\n",
    "    public static void Main()\n",
    "    {\n",
    "        int i, j = 0, k = 0, n;\n",
    "\n",
    "        Console.WriteLine(\"Input the number of elements to be stored :\");\n",
    "        n = Convert.ToInt32(Console.ReadLine());\n",
    "        int[] arr1 = new int[n];\n",
    "        int[] arr2 = new int[n];\n",
    "        int[] arr3 = new int[n];\n",
    "\n",
    "        Console.Write(\"Kindly enter {0} elements in the array :\\n\", n);\n",
    "        for (i = 0; i < n; i++)\n",
    "        {\n",
    "            Console.Write(\"element - {0} : \", i);\n",
    "            arr1[i] = int.Parse(Console.ReadLine());\n",
    "        }\n",
    "\n",
    "        for (i = 0; i < n; i++)\n",
    "        {\n",
    "            if (arr1[i] % 2 == 0)\n",
    "            {\n",
    "                arr2[j] = arr1[i];\n",
    "                j++;\n",
    "            }\n",
    "            else\n",
    "            {\n",
    "                arr3[k] = arr1[i];\n",
    "                k++;\n",
    "            }\n",
    "        }\n",
    "\n",
    "        Console.Write(\"\\nThe Even elements are : \\n\");\n",
    "        for (i = 0; i < j; i++)\n",
    "        {\n",
    "            Console.Write(\"{0} \", arr2[i]);\n",
    "        }\n",
    "\n",
    "        Console.Write(\"\\nThe Odd elements are :\\n\");\n",
    "        for (i = 0; i < k; i++)\n",
    "        {\n",
    "            Console.Write(\"{0} \", arr3[i]);\n",
    "        }\n",
    "        Console.Write(\"\\n\\n\");\n",
    "    }\n",
    "}\n"
   ]
  },
  {
   "cell_type": "code",
   "execution_count": null,
   "id": "6eb65f86",
   "metadata": {},
   "outputs": [],
   "source": [
    "#5\n",
    "using System;\n",
    "\n",
    "class Rectangle\n",
    "{\n",
    "    static bool inside(int x1, int y1, int x2, int y2, int x, int y)\n",
    "    {\n",
    "        if (x > x1 && x < x2 &&\n",
    "            y > y1 && y < y2)\n",
    "            return true;\n",
    "\n",
    "        return false;\n",
    "    }\n",
    "\n",
    "    public static void Main()\n",
    "    {\n",
    "        \n",
    "\n",
    "        Console.WriteLine(\"Now, Enter the point co-ordinates to test the if point lies inside the rectangle.\");\n",
    "        Console.Write(\"x = \");\n",
    "        int x = int.Parse(Console.ReadLine());\n",
    "        Console.Write(\"y = \");\n",
    "        int y = int.Parse(Console.ReadLine());\n",
    "        Console.WriteLine(\"\\n\");\n",
    "\n",
    "\n",
    "        Console.WriteLine(\"Enter the co-ordinates as bottom-left and top-right vertices points: \" + \"\\n\");\n",
    "        Console.WriteLine(\"Enter the value for the next co-ordinate \" + \"\\n\");\n",
    "        Console.Write(\"x1 = \");\n",
    "        int x1 = int.Parse(Console.ReadLine());\n",
    "        Console.Write(\"y1 = \");\n",
    "        int y1 = int.Parse(Console.ReadLine());\n",
    "        Console.Write(\"x2 = \");\n",
    "        int x2 = int.Parse(Console.ReadLine());\n",
    "        Console.Write(\"y2 = \");\n",
    "        int y2 = int.Parse(Console.ReadLine());\n",
    "        Console.WriteLine(\"\\n\" + \"The rectangle setup: \");\n",
    "        Console.WriteLine($\"The four co-ordinates are ({x1},{y1}) ; ({x2},{y1}) ; ({x2},{y2}) ; ({x1},{y2})\", x1, y1, x1, y2, x2, y2, x2, y1);\n",
    "        Console.WriteLine(\"\\n\");\n",
    "\n",
    "        if (inside(x1, y1, x2, y2, x, y))\n",
    "            Console.Write(\"Yes, the point lies inside the rectangle\" + \"\\n\");\n",
    "        else\n",
    "            Console.Write(\"No, the point lies outside the rectangle\" + \"\\n\");\n",
    "    }\n",
    "}"
   ]
  },
  {
   "cell_type": "code",
   "execution_count": 3,
   "id": "ab207116",
   "metadata": {},
   "outputs": [
    {
     "name": "stdout",
     "output_type": "stream",
     "text": [
      "Enter word to convert to Pig Latin: asdfghjkl\n",
      "asdfghjklway\n"
     ]
    }
   ],
   "source": [
    "#6\n",
    "word = input(\"Enter word to convert to Pig Latin: \")\n",
    "def pig(word):\n",
    "  vowels = ['a', 'e', 'i', 'o', 'u']\n",
    "  if word[0].lower() in vowels:\n",
    "    piglatin = word.lower() + \"way\"\n",
    "  else:\n",
    "    piglatin = word[1:] + word[0].lower() + \"ay\"\n",
    "\n",
    "  return piglatin\n",
    "\n",
    "print(pig(word))"
   ]
  },
  {
   "cell_type": "code",
   "execution_count": null,
   "id": "c7b55de8",
   "metadata": {},
   "outputs": [],
   "source": [
    "#7\n",
    "bloodtypes = open(\"bloodtype1.txt\",'r') \n",
    "lines = bloodtypes.read()                                      \n",
    "lines=lines.split(\" \")                                         \n",
    "\n",
    "print(\"Total number of students : \",len(lines) - 1)\n",
    "ab,a,b,o=0,0,0,0\n",
    "for i in lines:\n",
    "    if i == \"AB\":\n",
    "        ab=ab+1;\n",
    "    if i == \"A\":\n",
    "        a=a+1;\n",
    "    if i == \"B\":\n",
    "        b=b+1\n",
    "    if i == \"O\":\n",
    "        o=o+1\n",
    "print(\"Student blood types\")\n",
    "print(\"Students with blood group A : \",a)\n",
    "print(\"Students with blood group AB : \",ab)\n",
    "print(\"Students with blood group B : \",b)\n",
    "print(\"Students with blood group O : \",o)"
   ]
  },
  {
   "cell_type": "code",
   "execution_count": 5,
   "id": "b4014e48",
   "metadata": {},
   "outputs": [
    {
     "name": "stdout",
     "output_type": "stream",
     "text": [
      "Enter currency: aud\n",
      "Enter amount: 10\n",
      "10.345157\n"
     ]
    }
   ],
   "source": [
    "#8\n",
    "def curconv(currency, value):\n",
    "    if currency == 'AUD':\n",
    "        equi = 1.0345157 * value\n",
    "    if currency == 'CHF':\n",
    "        equi = 1.0237414 * value\n",
    "    if currency == 'CNY':\n",
    "        equi = 0.1550176 * value\n",
    "    if currency == 'DKK':\n",
    "        equi = 0.1651442 * value\n",
    "    if currency == 'EUR':\n",
    "        equi = 1.2296544 * value\n",
    "    if currency == 'GBP':\n",
    "        equi = 1.5550989 * value\n",
    "    if currency == 'HKD':\n",
    "        equi = 0.1270207 * value\n",
    "    if currency == 'INR':\n",
    "        equi = 0.0177643 * value\n",
    "    if currency == 'JPY':\n",
    "        equi = 0.01241401 * value\n",
    "    if currency == 'MXN':\n",
    "        equi = 0.0751848 * value\n",
    "    if currency == 'MYR':\n",
    "        equi = 0.3145411 * value\n",
    "    if currency == 'NOK':\n",
    "        equi = 0.1677063 * value\n",
    "    if currency == 'NZD':\n",
    "        equi = 0.8003591 * value\n",
    "    if currency == 'PHP':\n",
    "        equi = 0.0233234 * value\n",
    "    if currency == 'SEK':\n",
    "        equi = 0.148269 * value\n",
    "    if currency == 'SGD':\n",
    "        equi = 0.788871 * value\n",
    "    if currency == 'THB':\n",
    "        equi = 0.0313789 * value\n",
    "    return equi\n",
    "\n",
    "currency1 = input(\"Enter currency: \")\n",
    "currency = currency1.upper()\n",
    "value= input (\"Enter amount: \")\n",
    "value= float(value)\n",
    "print(curconv(currency, value))"
   ]
  },
  {
   "cell_type": "code",
   "execution_count": 2,
   "id": "c2347d35",
   "metadata": {},
   "outputs": [
    {
     "name": "stdout",
     "output_type": "stream",
     "text": [
      "The sum would give a TypeError\n"
     ]
    },
    {
     "ename": "TypeError",
     "evalue": "unsupported operand type(s) for +: 'int' and 'str'",
     "output_type": "error",
     "traceback": [
      "\u001b[1;31m---------------------------------------------------------------------------\u001b[0m",
      "\u001b[1;31mTypeError\u001b[0m                                 Traceback (most recent call last)",
      "Cell \u001b[1;32mIn[2], line 2\u001b[0m\n\u001b[0;32m      1\u001b[0m \u001b[38;5;28mprint\u001b[39m(\u001b[38;5;124m\"\u001b[39m\u001b[38;5;124mThe sum would give a TypeError\u001b[39m\u001b[38;5;124m\"\u001b[39m)\n\u001b[1;32m----> 2\u001b[0m \u001b[38;5;28mprint\u001b[39m(\u001b[38;5;241;43m6\u001b[39;49m\u001b[38;5;241;43m+\u001b[39;49m\u001b[38;5;124;43m'\u001b[39;49m\u001b[38;5;124;43ma\u001b[39;49m\u001b[38;5;124;43m'\u001b[39;49m)\n",
      "\u001b[1;31mTypeError\u001b[0m: unsupported operand type(s) for +: 'int' and 'str'"
     ]
    }
   ],
   "source": [
    "#9a\n",
    "print(\"The sum would give a TypeError\")\n",
    "print(6+'a')"
   ]
  },
  {
   "cell_type": "code",
   "execution_count": 6,
   "id": "5088ef0b",
   "metadata": {},
   "outputs": [
    {
     "name": "stdout",
     "output_type": "stream",
     "text": [
      "The seletion of the 12th item would give a IndexError\n"
     ]
    },
    {
     "ename": "IndexError",
     "evalue": "list index out of range",
     "output_type": "error",
     "traceback": [
      "\u001b[1;31m---------------------------------------------------------------------------\u001b[0m",
      "\u001b[1;31mIndexError\u001b[0m                                Traceback (most recent call last)",
      "Cell \u001b[1;32mIn[6], line 3\u001b[0m\n\u001b[0;32m      1\u001b[0m \u001b[38;5;28mprint\u001b[39m(\u001b[38;5;124m\"\u001b[39m\u001b[38;5;124mThe seletion of the 12th item would give a IndexError\u001b[39m\u001b[38;5;124m\"\u001b[39m)\n\u001b[0;32m      2\u001b[0m thomas_list \u001b[38;5;241m=\u001b[39m [\u001b[38;5;241m1\u001b[39m, \u001b[38;5;241m2\u001b[39m, \u001b[38;5;241m3\u001b[39m,\u001b[38;5;241m4\u001b[39m,\u001b[38;5;241m5\u001b[39m,\u001b[38;5;241m6\u001b[39m,\u001b[38;5;241m7\u001b[39m,\u001b[38;5;241m8\u001b[39m,\u001b[38;5;241m9\u001b[39m,\u001b[38;5;241m10\u001b[39m]\n\u001b[1;32m----> 3\u001b[0m \u001b[38;5;28mprint\u001b[39m(\u001b[43mthomas_list\u001b[49m\u001b[43m[\u001b[49m\u001b[38;5;241;43m12\u001b[39;49m\u001b[43m]\u001b[49m)\n",
      "\u001b[1;31mIndexError\u001b[0m: list index out of range"
     ]
    }
   ],
   "source": [
    "#9b\n",
    "print(\"The seletion of the 12th item would give a IndexError\")\n",
    "thomas_list = [1, 2, 3,4,5,6,7,8,9,10]\n",
    "print(thomas_list[12])"
   ]
  },
  {
   "cell_type": "code",
   "execution_count": 7,
   "id": "94dba320",
   "metadata": {},
   "outputs": [
    {
     "name": "stdout",
     "output_type": "stream",
     "text": [
      "The equation would give a ValueError\n"
     ]
    },
    {
     "ename": "ValueError",
     "evalue": "math domain error",
     "output_type": "error",
     "traceback": [
      "\u001b[1;31m---------------------------------------------------------------------------\u001b[0m",
      "\u001b[1;31mValueError\u001b[0m                                Traceback (most recent call last)",
      "Cell \u001b[1;32mIn[7], line 3\u001b[0m\n\u001b[0;32m      1\u001b[0m \u001b[38;5;28mprint\u001b[39m(\u001b[38;5;124m\"\u001b[39m\u001b[38;5;124mThe equation would give a ValueError\u001b[39m\u001b[38;5;124m\"\u001b[39m)\n\u001b[0;32m      2\u001b[0m \u001b[38;5;28;01mimport\u001b[39;00m \u001b[38;5;21;01mmath\u001b[39;00m\n\u001b[1;32m----> 3\u001b[0m \u001b[43mmath\u001b[49m\u001b[38;5;241;43m.\u001b[39;49m\u001b[43msqrt\u001b[49m\u001b[43m(\u001b[49m\u001b[38;5;241;43m-\u001b[39;49m\u001b[38;5;241;43m1.0\u001b[39;49m\u001b[43m)\u001b[49m\n",
      "\u001b[1;31mValueError\u001b[0m: math domain error"
     ]
    }
   ],
   "source": [
    "#9c\n",
    "print(\"The equation would give a ValueError\")\n",
    "import math\n",
    "math.sqrt(-1.0)"
   ]
  },
  {
   "cell_type": "code",
   "execution_count": 9,
   "id": "89b29865",
   "metadata": {},
   "outputs": [
    {
     "name": "stdout",
     "output_type": "stream",
     "text": [
      "The equation would give a NameError\n"
     ]
    },
    {
     "ename": "NameError",
     "evalue": "name 'x' is not defined",
     "output_type": "error",
     "traceback": [
      "\u001b[1;31m---------------------------------------------------------------------------\u001b[0m",
      "\u001b[1;31mNameError\u001b[0m                                 Traceback (most recent call last)",
      "Cell \u001b[1;32mIn[9], line 3\u001b[0m\n\u001b[0;32m      1\u001b[0m \u001b[38;5;28mprint\u001b[39m(\u001b[38;5;124m\"\u001b[39m\u001b[38;5;124mThe equation would give a NameError\u001b[39m\u001b[38;5;124m\"\u001b[39m)\n\u001b[0;32m      2\u001b[0m a\u001b[38;5;241m=\u001b[39m\u001b[38;5;241m4\u001b[39m\n\u001b[1;32m----> 3\u001b[0m \u001b[38;5;28mprint\u001b[39m(\u001b[43mx\u001b[49m)\n",
      "\u001b[1;31mNameError\u001b[0m: name 'x' is not defined"
     ]
    }
   ],
   "source": [
    "#9d\n",
    "print(\"The equation would give a NameError\")\n",
    "a=4\n",
    "print(x)"
   ]
  },
  {
   "cell_type": "code",
   "execution_count": 10,
   "id": "347f9311",
   "metadata": {},
   "outputs": [
    {
     "name": "stdout",
     "output_type": "stream",
     "text": [
      "The path would give a FileNotFoundError\n"
     ]
    },
    {
     "ename": "FileNotFoundError",
     "evalue": "[Errno 2] No such file or directory: 'C:/Users/user/Downloads/x'",
     "output_type": "error",
     "traceback": [
      "\u001b[1;31m---------------------------------------------------------------------------\u001b[0m",
      "\u001b[1;31mFileNotFoundError\u001b[0m                         Traceback (most recent call last)",
      "Cell \u001b[1;32mIn[10], line 2\u001b[0m\n\u001b[0;32m      1\u001b[0m \u001b[38;5;28mprint\u001b[39m(\u001b[38;5;124m\"\u001b[39m\u001b[38;5;124mThe path would give a FileNotFoundError\u001b[39m\u001b[38;5;124m\"\u001b[39m)\n\u001b[1;32m----> 2\u001b[0m file \u001b[38;5;241m=\u001b[39m \u001b[38;5;28;43mopen\u001b[39;49m\u001b[43m(\u001b[49m\u001b[38;5;124;43m\"\u001b[39;49m\u001b[38;5;124;43mC:/Users/user/Downloads/x\u001b[39;49m\u001b[38;5;124;43m\"\u001b[39;49m\u001b[43m)\u001b[49m\n",
      "File \u001b[1;32m~\\anaconda3\\lib\\site-packages\\IPython\\core\\interactiveshell.py:282\u001b[0m, in \u001b[0;36m_modified_open\u001b[1;34m(file, *args, **kwargs)\u001b[0m\n\u001b[0;32m    275\u001b[0m \u001b[38;5;28;01mif\u001b[39;00m file \u001b[38;5;129;01min\u001b[39;00m {\u001b[38;5;241m0\u001b[39m, \u001b[38;5;241m1\u001b[39m, \u001b[38;5;241m2\u001b[39m}:\n\u001b[0;32m    276\u001b[0m     \u001b[38;5;28;01mraise\u001b[39;00m \u001b[38;5;167;01mValueError\u001b[39;00m(\n\u001b[0;32m    277\u001b[0m         \u001b[38;5;124mf\u001b[39m\u001b[38;5;124m\"\u001b[39m\u001b[38;5;124mIPython won\u001b[39m\u001b[38;5;124m'\u001b[39m\u001b[38;5;124mt let you open fd=\u001b[39m\u001b[38;5;132;01m{\u001b[39;00mfile\u001b[38;5;132;01m}\u001b[39;00m\u001b[38;5;124m by default \u001b[39m\u001b[38;5;124m\"\u001b[39m\n\u001b[0;32m    278\u001b[0m         \u001b[38;5;124m\"\u001b[39m\u001b[38;5;124mas it is likely to crash IPython. If you know what you are doing, \u001b[39m\u001b[38;5;124m\"\u001b[39m\n\u001b[0;32m    279\u001b[0m         \u001b[38;5;124m\"\u001b[39m\u001b[38;5;124myou can use builtins\u001b[39m\u001b[38;5;124m'\u001b[39m\u001b[38;5;124m open.\u001b[39m\u001b[38;5;124m\"\u001b[39m\n\u001b[0;32m    280\u001b[0m     )\n\u001b[1;32m--> 282\u001b[0m \u001b[38;5;28;01mreturn\u001b[39;00m io_open(file, \u001b[38;5;241m*\u001b[39margs, \u001b[38;5;241m*\u001b[39m\u001b[38;5;241m*\u001b[39mkwargs)\n",
      "\u001b[1;31mFileNotFoundError\u001b[0m: [Errno 2] No such file or directory: 'C:/Users/user/Downloads/x'"
     ]
    }
   ],
   "source": [
    "#9e\n",
    "print(\"The path would give a FileNotFoundError\")\n",
    "file = open(\"C:/Users/user/Downloads/x\")"
   ]
  },
  {
   "cell_type": "code",
   "execution_count": 11,
   "id": "dafe15ee",
   "metadata": {},
   "outputs": [
    {
     "name": "stdout",
     "output_type": "stream",
     "text": [
      "Enter word or sentence: asdfghjkl\n",
      "[1, 0, 0, 1, 0, 1, 1, 1, 0, 1, 1, 1, 0, 0, 0, 0, 0, 0, 1, 0, 0, 0, 0, 0, 0, 0]\n",
      "None\n"
     ]
    }
   ],
   "source": [
    "#10\n",
    "import re\n",
    "\n",
    "def frequencies(word):\n",
    "\n",
    "  def remove_spaces(word):\n",
    "      return word.replace(\" \", \"\")\n",
    "\n",
    "  def remove_punctuation(word):\n",
    "      punctuation = r\"[^\\w\\s]\"\n",
    "      word1 = re.sub(punctuation, \"\", word)\n",
    "      return word1\n",
    "\n",
    "  #letters = \"This is a test string.\"\n",
    "\n",
    "  Nospace = remove_spaces(word)\n",
    "  NoSpace_punct = remove_punctuation(Nospace)\n",
    "  clean_string = NoSpace_punct.lower()\n",
    "  alphabet_string = \"abcdefghijklmnopqrstuvwxyz\"\n",
    "  counter = [0] * 26\n",
    "\n",
    "  for char in clean_string:\n",
    "      for i, alphabet_char in enumerate(alphabet_string):\n",
    "          if alphabet_char == char:\n",
    "              counter[i] += 1\n",
    "\n",
    "  print(counter)\n",
    "\n",
    "word = input(\"Enter word or sentence: \")\n",
    "print(frequencies(word))"
   ]
  },
  {
   "cell_type": "code",
   "execution_count": null,
   "id": "e2bf48ce",
   "metadata": {},
   "outputs": [],
   "source": []
  }
 ],
 "metadata": {
  "kernelspec": {
   "display_name": "Python 3 (ipykernel)",
   "language": "python",
   "name": "python3"
  },
  "language_info": {
   "codemirror_mode": {
    "name": "ipython",
    "version": 3
   },
   "file_extension": ".py",
   "mimetype": "text/x-python",
   "name": "python",
   "nbconvert_exporter": "python",
   "pygments_lexer": "ipython3",
   "version": "3.10.9"
  }
 },
 "nbformat": 4,
 "nbformat_minor": 5
}
